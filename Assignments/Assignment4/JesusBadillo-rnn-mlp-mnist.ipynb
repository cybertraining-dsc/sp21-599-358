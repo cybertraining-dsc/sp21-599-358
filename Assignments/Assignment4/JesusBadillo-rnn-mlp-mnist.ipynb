{
 "cells": [
  {
   "cell_type": "markdown",
   "metadata": {
    "id": "8J3LuF3DTEd8"
   },
   "source": [
    "# Multi-Layer Perceptron with MNIST"
   ]
  },
  {
   "cell_type": "markdown",
   "metadata": {
    "pycharm": {
     "name": "#%% md\n"
    }
   },
   "source": [
    "* [Open in github](https://github.com/cybertraining-dsc/sp21-599-358/blob/main/Assignments/Assignment4/JesusBadillo-rnn-mlp-mnist.ipynb)\n",
    "* [Open in collab](https://colab.research.google.com/github/cybertraining-dsc/sp21-599-358/blob/main/Assignments/Assignment4/JesusBadillo-rnn-mlp-mnist.ipynb)"
   ]
  },
  {
   "cell_type": "markdown",
   "metadata": {
    "id": "tvHZtL7ETLDp"
   },
   "source": [
    "## Pre-requisites\n",
    "\n",
    "Install the following Python packages\n",
    "\n",
    "1. cloudmesh-installer\n",
    "2. cloudmesh-common"
   ]
  },
  {
   "cell_type": "code",
   "execution_count": 1,
   "metadata": {
    "colab": {
     "base_uri": "https://localhost:8080/"
    },
    "executionInfo": {
     "elapsed": 11641,
     "status": "ok",
     "timestamp": 1615177578185,
     "user": {
      "displayName": "Jesus Badillo",
      "photoUrl": "",
      "userId": "06625807410898779496"
     },
     "user_tz": 300
    },
    "id": "IE8l7YgQ_z2p",
    "outputId": "46511742-7e29-45c2-93b7-42905eac4b5b"
   },
   "outputs": [
    {
     "name": "stdout",
     "output_type": "stream",
     "text": [
      "Collecting cloudmesh-installer\n",
      "  Downloading https://files.pythonhosted.org/packages/55/b0/9a325b781ef1ec92cdbc6fd63fd1d5bb35535ca44bd9710b83b3c6553526/cloudmesh_installer-4.4.25-py2.py3-none-any.whl\n",
      "Requirement already satisfied: psutil in /usr/local/lib/python3.7/dist-packages (from cloudmesh-installer) (5.4.8)\n",
      "Requirement already satisfied: docopt in /usr/local/lib/python3.7/dist-packages (from cloudmesh-installer) (0.6.2)\n",
      "Requirement already satisfied: wheel in /usr/local/lib/python3.7/dist-packages (from cloudmesh-installer) (0.36.2)\n",
      "Requirement already satisfied: pip-tools in /usr/local/lib/python3.7/dist-packages (from cloudmesh-installer) (4.5.1)\n",
      "Collecting cloudmesh-common\n",
      "\u001B[?25l  Downloading https://files.pythonhosted.org/packages/7d/b8/828ad8fe9483221c6aeaaf128745d65e73ff395b29771b0633ab91bd1a0f/cloudmesh_common-4.3.57-py2.py3-none-any.whl (80kB)\n",
      "\u001B[K     |████████████████████████████████| 81kB 3.6MB/s \n",
      "\u001B[?25hCollecting flake8\n",
      "\u001B[?25l  Downloading https://files.pythonhosted.org/packages/d4/ca/3971802ee6251da1abead1a22831d7f4743781e2f743bd266bdd2f46c19b/flake8-3.8.4-py2.py3-none-any.whl (72kB)\n",
      "\u001B[K     |████████████████████████████████| 81kB 5.5MB/s \n",
      "\u001B[?25hCollecting colorama\n",
      "  Downloading https://files.pythonhosted.org/packages/44/98/5b86278fbbf250d239ae0ecb724f8572af1c91f4a11edf4d36a206189440/colorama-0.4.4-py2.py3-none-any.whl\n",
      "Requirement already satisfied: humanize in /usr/local/lib/python3.7/dist-packages (from cloudmesh-installer) (0.5.1)\n",
      "Requirement already satisfied: requests in /usr/local/lib/python3.7/dist-packages (from cloudmesh-installer) (2.23.0)\n",
      "Collecting oyaml\n",
      "  Downloading https://files.pythonhosted.org/packages/37/aa/111610d8bf5b1bb7a295a048fc648cec346347a8b0be5881defd2d1b4a52/oyaml-1.0-py2.py3-none-any.whl\n",
      "Collecting pytest-cov\n",
      "  Downloading https://files.pythonhosted.org/packages/e3/1a/6affecd2344efee7f2487fac82242474cbac09f9e04929da5944907baf11/pytest_cov-2.11.1-py2.py3-none-any.whl\n",
      "Requirement already satisfied: coverage in /usr/local/lib/python3.7/dist-packages (from cloudmesh-installer) (3.7.1)\n",
      "Collecting python-hostlist\n",
      "  Downloading https://files.pythonhosted.org/packages/2b/4f/f31dd4b4bf1a57a5c29599e1165d0df70dbdddcfa59a7c1d04ee2ff4ccbd/python-hostlist-1.21.tar.gz\n",
      "Requirement already satisfied: tabulate in /usr/local/lib/python3.7/dist-packages (from cloudmesh-installer) (0.8.9)\n",
      "Collecting ordered-set\n",
      "  Downloading https://files.pythonhosted.org/packages/f5/ab/8252360bfe965bba31ec05112b3067bd129ce4800d89e0b85613bc6044f6/ordered-set-4.0.2.tar.gz\n",
      "Requirement already satisfied: pytest in /usr/local/lib/python3.7/dist-packages (from cloudmesh-installer) (3.6.4)\n",
      "Collecting pipdeptree\n",
      "  Downloading https://files.pythonhosted.org/packages/fa/22/8f1350b55e4297670813815142425b58829036197f0b4a0fc8f543928717/pipdeptree-2.0.0-py3-none-any.whl\n",
      "Collecting bump2version==1.0.0\n",
      "  Downloading https://files.pythonhosted.org/packages/61/10/560509d9bfe8300e03d268dadec74fac7ae04a430f62e2d06d11d9e4e704/bump2version-1.0.0-py2.py3-none-any.whl\n",
      "Requirement already satisfied: six in /usr/local/lib/python3.7/dist-packages (from pip-tools->cloudmesh-installer) (1.15.0)\n",
      "Requirement already satisfied: click>=7 in /usr/local/lib/python3.7/dist-packages (from pip-tools->cloudmesh-installer) (7.1.2)\n",
      "Requirement already satisfied: pytz in /usr/local/lib/python3.7/dist-packages (from cloudmesh-common->cloudmesh-installer) (2018.9)\n",
      "Requirement already satisfied: pathlib in /usr/local/lib/python3.7/dist-packages (from cloudmesh-common->cloudmesh-installer) (1.0.1)\n",
      "Requirement already satisfied: python-dateutil in /usr/local/lib/python3.7/dist-packages (from cloudmesh-common->cloudmesh-installer) (2.8.1)\n",
      "Collecting pyfiglet\n",
      "\u001B[?25l  Downloading https://files.pythonhosted.org/packages/33/07/fcfdd7a2872f5b348953de35acce1544dab0c1e8368dca54279b1cde5c15/pyfiglet-0.8.post1-py2.py3-none-any.whl (865kB)\n",
      "\u001B[K     |████████████████████████████████| 870kB 6.5MB/s \n",
      "\u001B[?25hCollecting simplejson\n",
      "\u001B[?25l  Downloading https://files.pythonhosted.org/packages/a8/04/377418ac1e530ce2a196b54c6552c018fdf1fe776718053efb1f216bffcd/simplejson-3.17.2-cp37-cp37m-manylinux2010_x86_64.whl (128kB)\n",
      "\u001B[K     |████████████████████████████████| 133kB 12.3MB/s \n",
      "\u001B[?25hRequirement already satisfied: importlib-metadata; python_version < \"3.8\" in /usr/local/lib/python3.7/dist-packages (from flake8->cloudmesh-installer) (3.7.0)\n",
      "Collecting pyflakes<2.3.0,>=2.2.0\n",
      "\u001B[?25l  Downloading https://files.pythonhosted.org/packages/69/5b/fd01b0c696f2f9a6d2c839883b642493b431f28fa32b29abc465ef675473/pyflakes-2.2.0-py2.py3-none-any.whl (66kB)\n",
      "\u001B[K     |████████████████████████████████| 71kB 7.0MB/s \n",
      "\u001B[?25hCollecting mccabe<0.7.0,>=0.6.0\n",
      "  Downloading https://files.pythonhosted.org/packages/87/89/479dc97e18549e21354893e4ee4ef36db1d237534982482c3681ee6e7b57/mccabe-0.6.1-py2.py3-none-any.whl\n",
      "Collecting pycodestyle<2.7.0,>=2.6.0a1\n",
      "\u001B[?25l  Downloading https://files.pythonhosted.org/packages/10/5b/88879fb861ab79aef45c7e199cae3ef7af487b5603dcb363517a50602dd7/pycodestyle-2.6.0-py2.py3-none-any.whl (41kB)\n",
      "\u001B[K     |████████████████████████████████| 51kB 6.6MB/s \n",
      "\u001B[?25hRequirement already satisfied: chardet<4,>=3.0.2 in /usr/local/lib/python3.7/dist-packages (from requests->cloudmesh-installer) (3.0.4)\n",
      "Requirement already satisfied: certifi>=2017.4.17 in /usr/local/lib/python3.7/dist-packages (from requests->cloudmesh-installer) (2020.12.5)\n",
      "Requirement already satisfied: idna<3,>=2.5 in /usr/local/lib/python3.7/dist-packages (from requests->cloudmesh-installer) (2.10)\n",
      "Requirement already satisfied: urllib3!=1.25.0,!=1.25.1,<1.26,>=1.21.1 in /usr/local/lib/python3.7/dist-packages (from requests->cloudmesh-installer) (1.24.3)\n",
      "Requirement already satisfied: pyyaml in /usr/local/lib/python3.7/dist-packages (from oyaml->cloudmesh-installer) (3.13)\n",
      "Requirement already satisfied: more-itertools>=4.0.0 in /usr/local/lib/python3.7/dist-packages (from pytest->cloudmesh-installer) (8.7.0)\n",
      "Requirement already satisfied: py>=1.5.0 in /usr/local/lib/python3.7/dist-packages (from pytest->cloudmesh-installer) (1.10.0)\n",
      "Requirement already satisfied: atomicwrites>=1.0 in /usr/local/lib/python3.7/dist-packages (from pytest->cloudmesh-installer) (1.4.0)\n",
      "Requirement already satisfied: setuptools in /usr/local/lib/python3.7/dist-packages (from pytest->cloudmesh-installer) (54.0.0)\n",
      "Requirement already satisfied: pluggy<0.8,>=0.5 in /usr/local/lib/python3.7/dist-packages (from pytest->cloudmesh-installer) (0.7.1)\n",
      "Requirement already satisfied: attrs>=17.4.0 in /usr/local/lib/python3.7/dist-packages (from pytest->cloudmesh-installer) (20.3.0)\n",
      "Requirement already satisfied: pip>=6.0.0 in /usr/local/lib/python3.7/dist-packages (from pipdeptree->cloudmesh-installer) (19.3.1)\n",
      "Requirement already satisfied: zipp>=0.5 in /usr/local/lib/python3.7/dist-packages (from importlib-metadata; python_version < \"3.8\"->flake8->cloudmesh-installer) (3.4.0)\n",
      "Requirement already satisfied: typing-extensions>=3.6.4; python_version < \"3.8\" in /usr/local/lib/python3.7/dist-packages (from importlib-metadata; python_version < \"3.8\"->flake8->cloudmesh-installer) (3.7.4.3)\n",
      "Building wheels for collected packages: python-hostlist, ordered-set\n",
      "  Building wheel for python-hostlist (setup.py) ... \u001B[?25l\u001B[?25hdone\n",
      "  Created wheel for python-hostlist: filename=python_hostlist-1.21-cp37-none-any.whl size=38931 sha256=2a44c3c3543fe9293a5bd268bb1677698ac53918e2f5aa2aad1cc51cf5ddb875\n",
      "  Stored in directory: /root/.cache/pip/wheels/0b/5b/55/ddcf52288f0b10f4564ca1b2531594ff7ccc65f487ba8dc437\n",
      "  Building wheel for ordered-set (setup.py) ... \u001B[?25l\u001B[?25hdone\n",
      "  Created wheel for ordered-set: filename=ordered_set-4.0.2-py2.py3-none-any.whl size=8210 sha256=2dfade2da589c22811ac638396de844d3f63031bec557709eaefae232cea9a96\n",
      "  Stored in directory: /root/.cache/pip/wheels/e1/c6/9b/651d8a21d59b51a75ab9c070838f9231b8126421bc0569af47\n",
      "Successfully built python-hostlist ordered-set\n",
      "\u001B[31mERROR: pytest-cov 2.11.1 has requirement coverage>=5.2.1, but you'll have coverage 3.7.1 which is incompatible.\u001B[0m\n",
      "\u001B[31mERROR: pytest-cov 2.11.1 has requirement pytest>=4.6, but you'll have pytest 3.6.4 which is incompatible.\u001B[0m\n",
      "Installing collected packages: colorama, oyaml, python-hostlist, pyfiglet, simplejson, cloudmesh-common, pyflakes, mccabe, pycodestyle, flake8, pytest-cov, ordered-set, pipdeptree, bump2version, cloudmesh-installer\n",
      "Successfully installed bump2version-1.0.0 cloudmesh-common-4.3.57 cloudmesh-installer-4.4.25 colorama-0.4.4 flake8-3.8.4 mccabe-0.6.1 ordered-set-4.0.2 oyaml-1.0 pipdeptree-2.0.0 pycodestyle-2.6.0 pyfiglet-0.8.post1 pyflakes-2.2.0 pytest-cov-2.11.1 python-hostlist-1.21 simplejson-3.17.2\n",
      "Requirement already satisfied: cloudmesh-common in /usr/local/lib/python3.7/dist-packages (4.3.57)\n",
      "Requirement already satisfied: humanize in /usr/local/lib/python3.7/dist-packages (from cloudmesh-common) (0.5.1)\n",
      "Requirement already satisfied: tabulate in /usr/local/lib/python3.7/dist-packages (from cloudmesh-common) (0.8.9)\n",
      "Requirement already satisfied: simplejson in /usr/local/lib/python3.7/dist-packages (from cloudmesh-common) (3.17.2)\n",
      "Requirement already satisfied: pathlib in /usr/local/lib/python3.7/dist-packages (from cloudmesh-common) (1.0.1)\n",
      "Requirement already satisfied: requests in /usr/local/lib/python3.7/dist-packages (from cloudmesh-common) (2.23.0)\n",
      "Requirement already satisfied: oyaml in /usr/local/lib/python3.7/dist-packages (from cloudmesh-common) (1.0)\n",
      "Requirement already satisfied: colorama in /usr/local/lib/python3.7/dist-packages (from cloudmesh-common) (0.4.4)\n",
      "Requirement already satisfied: psutil in /usr/local/lib/python3.7/dist-packages (from cloudmesh-common) (5.4.8)\n",
      "Requirement already satisfied: python-hostlist in /usr/local/lib/python3.7/dist-packages (from cloudmesh-common) (1.21)\n",
      "Requirement already satisfied: python-dateutil in /usr/local/lib/python3.7/dist-packages (from cloudmesh-common) (2.8.1)\n",
      "Requirement already satisfied: pyfiglet in /usr/local/lib/python3.7/dist-packages (from cloudmesh-common) (0.8.post1)\n",
      "Requirement already satisfied: pytz in /usr/local/lib/python3.7/dist-packages (from cloudmesh-common) (2018.9)\n",
      "Requirement already satisfied: certifi>=2017.4.17 in /usr/local/lib/python3.7/dist-packages (from requests->cloudmesh-common) (2020.12.5)\n",
      "Requirement already satisfied: chardet<4,>=3.0.2 in /usr/local/lib/python3.7/dist-packages (from requests->cloudmesh-common) (3.0.4)\n",
      "Requirement already satisfied: urllib3!=1.25.0,!=1.25.1,<1.26,>=1.21.1 in /usr/local/lib/python3.7/dist-packages (from requests->cloudmesh-common) (1.24.3)\n",
      "Requirement already satisfied: idna<3,>=2.5 in /usr/local/lib/python3.7/dist-packages (from requests->cloudmesh-common) (2.10)\n",
      "Requirement already satisfied: pyyaml in /usr/local/lib/python3.7/dist-packages (from oyaml->cloudmesh-common) (3.13)\n",
      "Requirement already satisfied: six>=1.5 in /usr/local/lib/python3.7/dist-packages (from python-dateutil->cloudmesh-common) (1.15.0)\n"
     ]
    }
   ],
   "source": [
    "! pip3 install cloudmesh-installer\n",
    "! pip3 install cloudmesh-common"
   ]
  },
  {
   "cell_type": "code",
   "execution_count": 2,
   "metadata": {
    "executionInfo": {
     "elapsed": 3280,
     "status": "ok",
     "timestamp": 1615177586381,
     "user": {
      "displayName": "Jesus Badillo",
      "photoUrl": "",
      "userId": "06625807410898779496"
     },
     "user_tz": 300
    },
    "id": "emu_x0dqbMHi"
   },
   "outputs": [],
   "source": [
    "from __future__ import absolute_import\n",
    "from __future__ import division\n",
    "from __future__ import print_function\n",
    "\n",
    "import time \n",
    "\n",
    "import numpy as np\n",
    "from keras.models import Sequential\n",
    "from keras.layers import Dense, Activation, Dropout, Conv2D, MaxPooling2D, Flatten, AveragePooling2D, SimpleRNN\n",
    "from keras.utils import to_categorical, plot_model\n",
    "from keras.datasets import mnist\n",
    "#import pydotplus\n",
    "from keras.utils.vis_utils import model_to_dot\n",
    "#from keras.utils.vis_utils import pydot\n",
    "\n",
    "from cloudmesh.common.StopWatch import StopWatch"
   ]
  },
  {
   "cell_type": "markdown",
   "metadata": {
    "id": "XYe7k1hvTYB7"
   },
   "source": [
    "## Sample MLP with Tensorflow Keras"
   ]
  },
  {
   "cell_type": "code",
   "execution_count": 4,
   "metadata": {
    "colab": {
     "base_uri": "https://localhost:8080/"
    },
    "executionInfo": {
     "elapsed": 149968,
     "status": "ok",
     "timestamp": 1615177814148,
     "user": {
      "displayName": "Jesus Badillo",
      "photoUrl": "",
      "userId": "06625807410898779496"
     },
     "user_tz": 300
    },
    "id": "eu-7aFi0_u10",
    "outputId": "0894228f-2b9b-42c1-e2ed-4f7693aa418d"
   },
   "outputs": [
    {
     "name": "stdout",
     "output_type": "stream",
     "text": [
      "Model: \"sequential_1\"\n",
      "_________________________________________________________________\n",
      "Layer (type)                 Output Shape              Param #   \n",
      "=================================================================\n",
      "simple_rnn (SimpleRNN)       (None, 28, 256)           72960     \n",
      "_________________________________________________________________\n",
      "simple_rnn_1 (SimpleRNN)     (None, 28, 256)           131328    \n",
      "_________________________________________________________________\n",
      "simple_rnn_2 (SimpleRNN)     (None, 256)               131328    \n",
      "_________________________________________________________________\n",
      "dense (Dense)                (None, 256)               65792     \n",
      "_________________________________________________________________\n",
      "activation (Activation)      (None, 256)               0         \n",
      "_________________________________________________________________\n",
      "dropout (Dropout)            (None, 256)               0         \n",
      "_________________________________________________________________\n",
      "dense_1 (Dense)              (None, 256)               65792     \n",
      "_________________________________________________________________\n",
      "activation_1 (Activation)    (None, 256)               0         \n",
      "_________________________________________________________________\n",
      "dropout_1 (Dropout)          (None, 256)               0         \n",
      "_________________________________________________________________\n",
      "dense_2 (Dense)              (None, 256)               65792     \n",
      "_________________________________________________________________\n",
      "activation_2 (Activation)    (None, 256)               0         \n",
      "_________________________________________________________________\n",
      "dropout_2 (Dropout)          (None, 256)               0         \n",
      "_________________________________________________________________\n",
      "dense_3 (Dense)              (None, 256)               65792     \n",
      "_________________________________________________________________\n",
      "activation_3 (Activation)    (None, 256)               0         \n",
      "_________________________________________________________________\n",
      "dropout_3 (Dropout)          (None, 256)               0         \n",
      "_________________________________________________________________\n",
      "dense_4 (Dense)              (None, 10)                2570      \n",
      "_________________________________________________________________\n",
      "activation_4 (Activation)    (None, 10)                0         \n",
      "=================================================================\n",
      "Total params: 601,354\n",
      "Trainable params: 601,354\n",
      "Non-trainable params: 0\n",
      "_________________________________________________________________\n",
      "Epoch 1/5\n",
      "469/469 [==============================] - 33s 62ms/step - loss: 1.6121 - accuracy: 0.4154\n",
      "Epoch 2/5\n",
      "469/469 [==============================] - 29s 61ms/step - loss: 0.6323 - accuracy: 0.8245\n",
      "Epoch 3/5\n",
      "469/469 [==============================] - 28s 59ms/step - loss: 0.4672 - accuracy: 0.8837\n",
      "Epoch 4/5\n",
      "469/469 [==============================] - 28s 61ms/step - loss: 0.3862 - accuracy: 0.9051\n",
      "Epoch 5/5\n",
      "469/469 [==============================] - 28s 60ms/step - loss: 0.4000 - accuracy: 0.8996\n",
      "79/79 [==============================] - 1s 7ms/step - loss: 0.1918 - accuracy: 0.9493\n",
      "\n",
      "Test accuracy: 94.9%\n",
      "\n",
      "+---------------------+------------------------------------------------------------------+\n",
      "| Attribute           | Value                                                            |\n",
      "|---------------------+------------------------------------------------------------------|\n",
      "| BUG_REPORT_URL      | \"https://bugs.launchpad.net/ubuntu/\"                             |\n",
      "| DISTRIB_CODENAME    | bionic                                                           |\n",
      "| DISTRIB_DESCRIPTION | \"Ubuntu 18.04.5 LTS\"                                             |\n",
      "| DISTRIB_ID          | Ubuntu                                                           |\n",
      "| DISTRIB_RELEASE     | 18.04                                                            |\n",
      "| HOME_URL            | \"https://www.ubuntu.com/\"                                        |\n",
      "| ID                  | ubuntu                                                           |\n",
      "| ID_LIKE             | debian                                                           |\n",
      "| NAME                | \"Ubuntu\"                                                         |\n",
      "| PRETTY_NAME         | \"Ubuntu 18.04.5 LTS\"                                             |\n",
      "| PRIVACY_POLICY_URL  | \"https://www.ubuntu.com/legal/terms-and-policies/privacy-policy\" |\n",
      "| SUPPORT_URL         | \"https://help.ubuntu.com/\"                                       |\n",
      "| UBUNTU_CODENAME     | bionic                                                           |\n",
      "| VERSION             | \"18.04.5 LTS (Bionic Beaver)\"                                    |\n",
      "| VERSION_CODENAME    | bionic                                                           |\n",
      "| VERSION_ID          | \"18.04\"                                                          |\n",
      "| cpu_count           | 2                                                                |\n",
      "| mem.active          | 1.3 GiB                                                          |\n",
      "| mem.available       | 11.4 GiB                                                         |\n",
      "| mem.free            | 8.4 GiB                                                          |\n",
      "| mem.inactive        | 2.5 GiB                                                          |\n",
      "| mem.percent         | 10.6 %                                                           |\n",
      "| mem.total           | 12.7 GiB                                                         |\n",
      "| mem.used            | 1.5 GiB                                                          |\n",
      "| platform.version    | #1 SMP Thu Jul 23 08:00:38 PDT 2020                              |\n",
      "| python              | 3.7.10 (default, Feb 20 2021, 21:17:23)                          |\n",
      "|                     | [GCC 7.5.0]                                                      |\n",
      "| python.pip          | 19.3.1                                                           |\n",
      "| python.version      | 3.7.10                                                           |\n",
      "| sys.platform        | linux                                                            |\n",
      "| uname.machine       | x86_64                                                           |\n",
      "| uname.node          | d9b1bb50bef7                                                     |\n",
      "| uname.processor     | x86_64                                                           |\n",
      "| uname.release       | 4.19.112+                                                        |\n",
      "| uname.system        | Linux                                                            |\n",
      "| uname.version       | #1 SMP Thu Jul 23 08:00:38 PDT 2020                              |\n",
      "| user                | collab                                                           |\n",
      "+---------------------+------------------------------------------------------------------+\n",
      "\n",
      "+-----------+----------+---------+---------+---------------------+-------+--------------+--------+-------+-------------------------------------+\n",
      "| Name      | Status   |    Time |     Sum | Start               | tag   | Node         | User   | OS    | Version                             |\n",
      "|-----------+----------+---------+---------+---------------------+-------+--------------+--------+-------+-------------------------------------|\n",
      "| data-load | failed   |   0.291 |   1.47  | 2021-03-08 04:27:46 |       | d9b1bb50bef7 | collab | Linux | #1 SMP Thu Jul 23 08:00:38 PDT 2020 |\n",
      "| compile   | failed   |   0.011 |   0.011 | 2021-03-08 04:27:47 |       | d9b1bb50bef7 | collab | Linux | #1 SMP Thu Jul 23 08:00:38 PDT 2020 |\n",
      "| train     | failed   | 146.597 | 146.597 | 2021-03-08 04:27:47 |       | d9b1bb50bef7 | collab | Linux | #1 SMP Thu Jul 23 08:00:38 PDT 2020 |\n",
      "| test      | failed   |   0.913 |   0.913 | 2021-03-08 04:30:14 |       | d9b1bb50bef7 | collab | Linux | #1 SMP Thu Jul 23 08:00:38 PDT 2020 |\n",
      "+-----------+----------+---------+---------+---------------------+-------+--------------+--------+-------+-------------------------------------+\n",
      "\n",
      "# csv,timer,status,time,sum,start,tag,uname.node,user,uname.system,platform.version\n",
      "# csv,data-load,failed,0.291,1.47,2021-03-08 04:27:46,,d9b1bb50bef7,collab,Linux,#1 SMP Thu Jul 23 08:00:38 PDT 2020\n",
      "# csv,compile,failed,0.011,0.011,2021-03-08 04:27:47,,d9b1bb50bef7,collab,Linux,#1 SMP Thu Jul 23 08:00:38 PDT 2020\n",
      "# csv,train,failed,146.597,146.597,2021-03-08 04:27:47,,d9b1bb50bef7,collab,Linux,#1 SMP Thu Jul 23 08:00:38 PDT 2020\n",
      "# csv,test,failed,0.913,0.913,2021-03-08 04:30:14,,d9b1bb50bef7,collab,Linux,#1 SMP Thu Jul 23 08:00:38 PDT 2020\n",
      "\n"
     ]
    }
   ],
   "source": [
    "StopWatch.start(\"data-load\")\n",
    "(x_train, y_train), (x_test, y_test) = mnist.load_data()\n",
    "StopWatch.stop(\"data-load\")\n",
    "\n",
    "num_labels = len(np.unique(y_train))\n",
    "\n",
    "\n",
    "y_train = to_categorical(y_train)\n",
    "y_test = to_categorical(y_test)\n",
    "\n",
    "\n",
    "image_size = x_train.shape[1]\n",
    "input_size = image_size * image_size\n",
    "\n",
    "\n",
    "x_train = np.reshape(x_train, [-1, image_size, image_size])\n",
    "x_train = x_train.astype('float32') / 255\n",
    "x_test = np.reshape(x_test, [-1, image_size, image_size])\n",
    "x_test = x_test.astype('float32') / 255\n",
    "\n",
    "batch_size = 128\n",
    "hidden_units = 256\n",
    "units = 256\n",
    "dropout = 0.45\n",
    "input_shape = (image_size,image_size)\n",
    "model = Sequential()\n",
    "\n",
    "#RNN Layers\n",
    "model.add(SimpleRNN(units=units,\n",
    "                    dropout=dropout,\n",
    "                    input_shape=input_shape, return_sequences=True))\n",
    "model.add(SimpleRNN(units=units,\n",
    "                    dropout=dropout,\n",
    "                    return_sequences=True))\n",
    "model.add(SimpleRNN(units=units,\n",
    "                    dropout=dropout,\n",
    "                    return_sequences=False))\n",
    "#MLP Layers\n",
    "model.add(Dense(hidden_units, input_dim=input_size))\n",
    "model.add(Activation('relu'))\n",
    "model.add(Dropout(dropout))\n",
    "model.add(Dense(hidden_units))\n",
    "model.add(Activation('relu'))\n",
    "model.add(Dropout(dropout))\n",
    "model.add(Dense(hidden_units))\n",
    "model.add(Activation('relu'))\n",
    "model.add(Dropout(dropout))\n",
    "model.add(Dense(hidden_units))\n",
    "model.add(Activation('relu'))\n",
    "model.add(Dropout(dropout))\n",
    "\n",
    "\n",
    "#SoftMax Layer\n",
    "model.add(Dense(num_labels))\n",
    "model.add(Activation('softmax'))\n",
    "\n",
    "model.summary()\n",
    "plot_model(model, to_file='mlp-mnist.png', show_shapes=True)\n",
    "\n",
    "\n",
    "StopWatch.start(\"compile\")\n",
    "model.compile(loss='categorical_crossentropy',\n",
    "              optimizer='adam',\n",
    "              metrics=['accuracy'])\n",
    "StopWatch.stop(\"compile\")\n",
    "StopWatch.start(\"train\")\n",
    "model.fit(x_train, y_train, epochs=5, batch_size=batch_size)\n",
    "StopWatch.stop(\"train\")\n",
    "\n",
    "StopWatch.start(\"test\")\n",
    "loss, acc = model.evaluate(x_test, y_test, batch_size=batch_size)\n",
    "print(\"\\nTest accuracy: %.1f%%\" % (100.0 * acc))\n",
    "StopWatch.stop(\"test\")\n",
    "\n",
    "StopWatch.benchmark()"
   ]
  },
  {
   "cell_type": "markdown",
   "metadata": {
    "id": "rkD7IrsbCRIJ"
   },
   "source": [
    "# REFERENCES\n",
    "\n",
    "1. [Adavnced Keras Deep Learning Book](https://github.com/PacktPublishing/Advanced-Deep-Learning-with-Keras)"
   ]
  }
 ],
 "metadata": {
  "accelerator": "GPU",
  "colab": {
   "collapsed_sections": [],
   "name": "JesusBadillo-rnn-mlp-mnist.ipynb",
   "provenance": [
    {
     "file_id": "https://github.com/cybertraining-dsc/cybertraining-dsc.github.io/blob/master/content/en/modules/notebooks/mlp_mnist.ipynb",
     "timestamp": 1615165941424
    }
   ]
  },
  "kernelspec": {
   "display_name": "Python 3",
   "language": "python",
   "name": "python3"
  },
  "language_info": {
   "codemirror_mode": {
    "name": "ipython",
    "version": 3
   },
   "file_extension": ".py",
   "mimetype": "text/x-python",
   "name": "python",
   "nbconvert_exporter": "python",
   "pygments_lexer": "ipython3",
   "version": "3.8.5"
  }
 },
 "nbformat": 4,
 "nbformat_minor": 4
}